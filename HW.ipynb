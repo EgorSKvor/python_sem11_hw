{
 "cells": [
  {
   "cell_type": "markdown",
   "id": "a05cd1fa",
   "metadata": {},
   "source": [
    "**f(x) = 0.6x^3+5.5x^2+10x - 5"
   ]
  },
  {
   "cell_type": "code",
   "execution_count": 14,
   "id": "990b40ac",
   "metadata": {},
   "outputs": [
    {
     "name": "stdout",
     "output_type": "stream",
     "text": [
      "(2.0, -1.049, 1.049)\n"
     ]
    }
   ],
   "source": [
    "def sign(x):  \n",
    "    if x > 0:\n",
    "        return 1\n",
    "    elif x < 0:\n",
    "        return -1\n",
    "    else:\n",
    "        return 0\n",
    "\n",
    "\n",
    "def dicho(f, a, b, eps=1.0e-14):  \n",
    "    fa = f(a)                              \n",
    "    fb = f(b)\n",
    "    while True:\n",
    "        c = 0.5*(a+b)\n",
    "        if abs(b-a) < eps:\n",
    "            return c\n",
    "        fc = f(c)\n",
    "        if abs(fc) <= eps:\n",
    "            return c\n",
    "        if sign(fa)*sign(fc) < 0:\n",
    "            b = c\n",
    "            fb = fc\n",
    "        else:\n",
    "            a = c\n",
    "            fa = fc\n",
    "\n",
    "\n",
    "def div_poly(p, a):  \n",
    "    r = [0, 0, 0]          \n",
    "    r[2] = p[3]\n",
    "    r[1] = p[2]+a*p[3]\n",
    "    r[0] = (p[1]+a*(p[2]+a*p[3]))\n",
    "    return tuple(r)\n",
    "\n",
    "\n",
    "def solve_qube(p):  \n",
    "    q = max(p)\n",
    "    left = -abs(q)/abs(p[3])  \n",
    "    right = -left\n",
    "    x1 = dicho(lambda x: p[3]*x**3+p[2]*x**2+p[1]*x+p[0], left, right)\n",
    "    (c, b, a) = div_poly(p, x1)\n",
    "    d = b**2-4*a*c\n",
    "    x2 = (-b+d**0.5)/(2*a)\n",
    "    x3 = (-b-d**0.5)/(2*a)\n",
    "    x1 = round(x1, 3)\n",
    "    x2 = round(x2, 3)\n",
    "    x3 = round(x3, 3)\n",
    "    \n",
    "    return (x1, x2, x3)\n",
    "\n",
    "\n",
    "print(solve_qube([0.6, 5.5, 10, -5]))"
   ]
  },
  {
   "cell_type": "code",
   "execution_count": 35,
   "id": "11bbc77e",
   "metadata": {},
   "outputs": [
    {
     "data": {
      "image/png": "[encoded data removed]",
      "text/plain": [
       "<Figure size 640x480 with 1 Axes>"
      ]
     },
     "metadata": {},
     "output_type": "display_data"
    }
   ],
   "source": [
    "import matplotlib.pyplot as plt\n",
    "import numpy as np\n",
    "x = np.linspace(-8, 2, 50)\n",
    "y = 0.6*x**3 + 5.5*x**2 + 10*x - 5\n",
    "fig, ax = plt.subplots()\n",
    "ax.plot(x, y, color='red', label=\"y'(x)\")\n",
    "ax.set_xlabel('x')\n",
    "ax.set_ylabel('y')\n",
    "ax.legend()\n",
    "ax.plot(np.linspace(-20, 20, 50), x*0, color='blue')\n",
    "ax.plot(y*0, 0.6*x**3 + 5.5*x**2 + 10*x - 5, color='blue')\n",
    "plt.grid(True)\n",
    "plt.show()"
   ]
  },
  {
   "cell_type": "code",
   "execution_count": 38,
   "id": "4d625e05",
   "metadata": {},
   "outputs": [
    {
     "name": "stdout",
     "output_type": "stream",
     "text": [
      "3.06 94.29\n",
      "Функция убывает от (-inf;3.06) и возрастает от (3.06;+inf)\n"
     ]
    }
   ],
   "source": [
    "from sympy import *\n",
    "\n",
    "x, y = symbols('x y')\n",
    "xfromy = diff(0.6*x**3 + 5.5*x**2 + 10*x - 5)\n",
    "sec_der = diff(xfromy)\n",
    "t = str((sec_der).as_independent())\n",
    "lst = []\n",
    "for i in range(len(t)):\n",
    "    lst.append(t[i])\n",
    "\n",
    "new_lst = []\n",
    "for i in range(len(lst)):\n",
    "    if lst[i] not in '(),*x':\n",
    "        new_lst.append(lst[i])\n",
    "\n",
    "lst_nums = []\n",
    "\n",
    "try:\n",
    "    while True:\n",
    "        new_lst.remove(' ')\n",
    "except ValueError:\n",
    "    pass\n",
    "\n",
    "for i in range(len(new_lst)):\n",
    "    try:\n",
    "        lst_nums.append(int(new_lst[i]))\n",
    "    except ValueError:\n",
    "        lst_nums.append(new_lst[i])\n",
    "new_str = ''.join(new_lst)\n",
    "perem = new_str.split('+')\n",
    "x_dot = round(float(perem[1]) / float(perem[0]), 2)\n",
    "y_dot = round(0.6*x_dot**3 + 5.5*x_dot**2 + 10*x_dot - 5, 2)\n",
    "print(x_dot, y_dot)\n",
    "\n"
   ]
  },
  {
   "cell_type": "code",
   "execution_count": 63,
   "id": "b46a9482",
   "metadata": {},
   "outputs": [
    {
     "name": "stdout",
     "output_type": "stream",
     "text": [
      "1.8*x**2 + 11.0*x + 10\n",
      "x1 = -1.1111111111111112 \n",
      "x2 = -5.0\n",
      "Первая точка перегиба (-1, -10.1)\n",
      " Вторая точка перегиба (-5, 7.5)\n",
      "Функция возрастает от (-inf;-5) and (-1; +inf)\n",
      "Функция убывает от (-5, -1) and (-1, +inf)\n"
     ]
    }
   ],
   "source": [
    "import math\n",
    "from sympy import symbols, diff\n",
    "\n",
    "x, y = symbols('x y')\n",
    "der = diff(0.6*x**3 + 5.5*x**2 + 10*x - 5)\n",
    "print(der)\n",
    "a = 1.8\n",
    "b = 11\n",
    "c = 10\n",
    "discr = b ** 2 - 4 * a * c\n",
    "if discr > 0:\n",
    "    x1 = (-b + math.sqrt(discr)) / (2 * a)\n",
    "    x2 = (-b - math.sqrt(discr)) / (2 * a)\n",
    "    print(f\"x1 = {x1} \\nx2 = {x2}\")\n",
    "elif discr == 0:\n",
    "    x = -b / (2 * a)\n",
    "    print(\"x = %.2f\" % x)\n",
    "else:\n",
    "    print(\"Корней нет\")\n",
    "x1 = int(x1)\n",
    "x2 = int(x2)\n",
    "\n",
    "y1 = 0.6*x1**3 + 5.5*x1**2 + 10*x1 - 5\n",
    "y2 = 0.6*x2**3 + 5.5*x2**2 + 10*x2 - 5\n",
    "print(f'Первая точка перегиба ({x1}, {y1})'\n",
    "     f'\\n Вторая точка перегиба ({x2}, {y2})')\n",
    "print(f'Функция возрастает от (-inf;{x2}) and ({x1}; +inf)'\n",
    "     f'\\nФункция убывает от ({x2}, {x1}) and ({x1}, +inf)')\n",
    "!git branch -M main\n"
   ]
  }
 ],
 "metadata": {
  "kernelspec": {
   "display_name": "Python 3.10.6 64-bit",
   "language": "python",
   "name": "python3"
  },
  "language_info": {
   "codemirror_mode": {
    "name": "ipython",
    "version": 3
   },
   "file_extension": ".py",
   "mimetype": "text/x-python",
   "name": "python",
   "nbconvert_exporter": "python",
   "pygments_lexer": "ipython3",
   "version": "3.10.6"
  },
  "vscode": {
   "interpreter": {
    "hash": "aee8b7b246df8f9039afb4144a1f6fd8d2ca17a180786b69acc140d282b71a49"
   }
  }
 },
 "nbformat": 4,
 "nbformat_minor": 5
}
